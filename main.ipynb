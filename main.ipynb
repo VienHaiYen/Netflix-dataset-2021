{
 "cells": [
  {
   "cell_type": "markdown",
   "metadata": {},
   "source": [
    "## ĐỒ ÁN LẬP TRÌNH CHO KHOA HỌC DỮ LIỆU - THỰC HÀNH"
   ]
  },
  {
   "cell_type": "markdown",
   "metadata": {},
   "source": [
    "### Thành viên:\n",
    "- 20120634: Lê Minh Trí\n",
    "- 20120633: Viên Hải Yến\n",
    "- 20120219: Nguyễn Minh Trí\n",
    "- 20120357: Nguyễn Đức Minh Quân\n"
   ]
  },
  {
   "cell_type": "markdown",
   "metadata": {},
   "source": [
    "Mô tả đồ án:\n",
    "Đồ án nhằm mục đích ...."
   ]
  },
  {
   "cell_type": "markdown",
   "metadata": {},
   "source": [
    "## Cách thức chạy"
   ]
  },
  {
   "cell_type": "markdown",
   "metadata": {},
   "source": [
    "import thư viện"
   ]
  },
  {
   "cell_type": "code",
   "execution_count": 3,
   "metadata": {},
   "outputs": [],
   "source": [
    "import numpy as np\n",
    "import pandas as pd\n",
    "import seaborn as sns\n",
    "import matplotlib.pyplot as plt\n",
    "import requests\n",
    "import json "
   ]
  },
  {
   "cell_type": "markdown",
   "metadata": {},
   "source": [
    "## Thu thập dữ liệu"
   ]
  },
  {
   "cell_type": "markdown",
   "metadata": {},
   "source": [
    "- Dữ liệu mà nhóm sinh viên là về chủ đề gì và được lấy từ nguồn nào?\n",
    "- Người ta có cho phép sử dụng dữ liệu như thế này hay không? Ví dụ: cần kiểm\n",
    "tra thử License của dữ liệu là gì?\n",
    "- Người ta đã thu thập dữ liệu này như thế nào?"
   ]
  },
  {
   "cell_type": "markdown",
   "metadata": {},
   "source": [
    "## Khám phá dữ liệu"
   ]
  },
  {
   "cell_type": "markdown",
   "metadata": {},
   "source": [
    "### Đọc dữ liệu"
   ]
  },
  {
   "cell_type": "code",
   "execution_count": 32,
   "metadata": {},
   "outputs": [
    {
     "data": {
      "text/html": [
       "<div>\n",
       "<style scoped>\n",
       "    .dataframe tbody tr th:only-of-type {\n",
       "        vertical-align: middle;\n",
       "    }\n",
       "\n",
       "    .dataframe tbody tr th {\n",
       "        vertical-align: top;\n",
       "    }\n",
       "\n",
       "    .dataframe thead th {\n",
       "        text-align: right;\n",
       "    }\n",
       "</style>\n",
       "<table border=\"1\" class=\"dataframe\">\n",
       "  <thead>\n",
       "    <tr style=\"text-align: right;\">\n",
       "      <th></th>\n",
       "      <th>Title</th>\n",
       "      <th>Genre</th>\n",
       "      <th>Tags</th>\n",
       "      <th>Languages</th>\n",
       "      <th>Series or Movie</th>\n",
       "      <th>Hidden Gem Score</th>\n",
       "      <th>Country Availability</th>\n",
       "      <th>Runtime</th>\n",
       "      <th>Director</th>\n",
       "      <th>Writer</th>\n",
       "      <th>...</th>\n",
       "      <th>Netflix Release Date</th>\n",
       "      <th>Production House</th>\n",
       "      <th>Netflix Link</th>\n",
       "      <th>IMDb Link</th>\n",
       "      <th>Summary</th>\n",
       "      <th>IMDb Votes</th>\n",
       "      <th>Image</th>\n",
       "      <th>Poster</th>\n",
       "      <th>TMDb Trailer</th>\n",
       "      <th>Trailer Site</th>\n",
       "    </tr>\n",
       "  </thead>\n",
       "  <tbody>\n",
       "    <tr>\n",
       "      <th>0</th>\n",
       "      <td>Lets Fight Ghost</td>\n",
       "      <td>Crime, Drama, Fantasy, Horror, Romance</td>\n",
       "      <td>Comedy Programmes,Romantic TV Comedies,Horror ...</td>\n",
       "      <td>Swedish, Spanish</td>\n",
       "      <td>Series</td>\n",
       "      <td>4.3</td>\n",
       "      <td>Thailand</td>\n",
       "      <td>&lt; 30 minutes</td>\n",
       "      <td>Tomas Alfredson</td>\n",
       "      <td>John Ajvide Lindqvist</td>\n",
       "      <td>...</td>\n",
       "      <td>2021-03-04</td>\n",
       "      <td>Canal+, Sandrew Metronome</td>\n",
       "      <td>https://www.netflix.com/watch/81415947</td>\n",
       "      <td>https://www.imdb.com/title/tt1139797</td>\n",
       "      <td>A med student with a supernatural gift tries t...</td>\n",
       "      <td>205926.0</td>\n",
       "      <td>https://occ-0-4708-64.1.nflxso.net/dnm/api/v6/...</td>\n",
       "      <td>https://m.media-amazon.com/images/M/MV5BOWM4NT...</td>\n",
       "      <td>https://www.youtube.com/watch?v=LqB6XJix-dM</td>\n",
       "      <td>YouTube</td>\n",
       "    </tr>\n",
       "    <tr>\n",
       "      <th>1</th>\n",
       "      <td>HOW TO BUILD A GIRL</td>\n",
       "      <td>Comedy</td>\n",
       "      <td>Dramas,Comedies,Films Based on Books,British</td>\n",
       "      <td>English</td>\n",
       "      <td>Movie</td>\n",
       "      <td>7.0</td>\n",
       "      <td>Canada</td>\n",
       "      <td>1-2 hour</td>\n",
       "      <td>Coky Giedroyc</td>\n",
       "      <td>Caitlin Moran</td>\n",
       "      <td>...</td>\n",
       "      <td>2021-03-04</td>\n",
       "      <td>Film 4, Monumental Pictures, Lionsgate</td>\n",
       "      <td>https://www.netflix.com/watch/81041267</td>\n",
       "      <td>https://www.imdb.com/title/tt4193072</td>\n",
       "      <td>When nerdy Johanna moves to London, things get...</td>\n",
       "      <td>2838.0</td>\n",
       "      <td>https://occ-0-1081-999.1.nflxso.net/dnm/api/v6...</td>\n",
       "      <td>https://m.media-amazon.com/images/M/MV5BZGUyN2...</td>\n",
       "      <td>https://www.youtube.com/watch?v=eIbcxPy4okQ</td>\n",
       "      <td>YouTube</td>\n",
       "    </tr>\n",
       "    <tr>\n",
       "      <th>2</th>\n",
       "      <td>The Con-Heartist</td>\n",
       "      <td>Comedy, Romance</td>\n",
       "      <td>Romantic Comedies,Comedies,Romantic Films,Thai...</td>\n",
       "      <td>Thai</td>\n",
       "      <td>Movie</td>\n",
       "      <td>8.6</td>\n",
       "      <td>Thailand</td>\n",
       "      <td>&gt; 2 hrs</td>\n",
       "      <td>Mez Tharatorn</td>\n",
       "      <td>Pattaranad Bhiboonsawade, Mez Tharatorn, Thods...</td>\n",
       "      <td>...</td>\n",
       "      <td>2021-03-03</td>\n",
       "      <td>NaN</td>\n",
       "      <td>https://www.netflix.com/watch/81306155</td>\n",
       "      <td>https://www.imdb.com/title/tt13393728</td>\n",
       "      <td>After her ex-boyfriend cons her out of a large...</td>\n",
       "      <td>131.0</td>\n",
       "      <td>https://occ-0-2188-64.1.nflxso.net/dnm/api/v6/...</td>\n",
       "      <td>https://m.media-amazon.com/images/M/MV5BODAzOG...</td>\n",
       "      <td>https://www.youtube.com/watch?v=md3CmFLGK6Y</td>\n",
       "      <td>YouTube</td>\n",
       "    </tr>\n",
       "    <tr>\n",
       "      <th>3</th>\n",
       "      <td>Gleboka woda</td>\n",
       "      <td>Drama</td>\n",
       "      <td>TV Dramas,Polish TV Shows,Social Issue TV Dramas</td>\n",
       "      <td>Polish</td>\n",
       "      <td>Series</td>\n",
       "      <td>8.7</td>\n",
       "      <td>Poland</td>\n",
       "      <td>&lt; 30 minutes</td>\n",
       "      <td>NaN</td>\n",
       "      <td>NaN</td>\n",
       "      <td>...</td>\n",
       "      <td>2021-03-03</td>\n",
       "      <td>NaN</td>\n",
       "      <td>https://www.netflix.com/watch/81307527</td>\n",
       "      <td>https://www.imdb.com/title/tt2300049</td>\n",
       "      <td>A group of social welfare workers led by their...</td>\n",
       "      <td>47.0</td>\n",
       "      <td>https://occ-0-2508-2706.1.nflxso.net/dnm/api/v...</td>\n",
       "      <td>https://m.media-amazon.com/images/M/MV5BMTc0Nz...</td>\n",
       "      <td>https://www.youtube.com/watch?v=5kyF2vy63r0</td>\n",
       "      <td>YouTube</td>\n",
       "    </tr>\n",
       "    <tr>\n",
       "      <th>4</th>\n",
       "      <td>Only a Mother</td>\n",
       "      <td>Drama</td>\n",
       "      <td>Social Issue Dramas,Dramas,Movies Based on Boo...</td>\n",
       "      <td>Swedish</td>\n",
       "      <td>Movie</td>\n",
       "      <td>8.3</td>\n",
       "      <td>Lithuania,Poland,France,Italy,Spain,Greece,Bel...</td>\n",
       "      <td>1-2 hour</td>\n",
       "      <td>Alf Sjöberg</td>\n",
       "      <td>Ivar Lo-Johansson</td>\n",
       "      <td>...</td>\n",
       "      <td>2021-03-03</td>\n",
       "      <td>NaN</td>\n",
       "      <td>https://www.netflix.com/watch/81382068</td>\n",
       "      <td>https://www.imdb.com/title/tt0041155</td>\n",
       "      <td>An unhappily married farm worker struggling to...</td>\n",
       "      <td>88.0</td>\n",
       "      <td>https://occ-0-2851-41.1.nflxso.net/dnm/api/v6/...</td>\n",
       "      <td>https://m.media-amazon.com/images/M/MV5BMjVmMz...</td>\n",
       "      <td>https://www.youtube.com/watch?v=H0itWKFwMpQ</td>\n",
       "      <td>YouTube</td>\n",
       "    </tr>\n",
       "  </tbody>\n",
       "</table>\n",
       "<p>5 rows × 29 columns</p>\n",
       "</div>"
      ],
      "text/plain": [
       "                 Title                                   Genre  \\\n",
       "0     Lets Fight Ghost  Crime, Drama, Fantasy, Horror, Romance   \n",
       "1  HOW TO BUILD A GIRL                                  Comedy   \n",
       "2     The Con-Heartist                         Comedy, Romance   \n",
       "3         Gleboka woda                                   Drama   \n",
       "4        Only a Mother                                   Drama   \n",
       "\n",
       "                                                Tags         Languages  \\\n",
       "0  Comedy Programmes,Romantic TV Comedies,Horror ...  Swedish, Spanish   \n",
       "1       Dramas,Comedies,Films Based on Books,British           English   \n",
       "2  Romantic Comedies,Comedies,Romantic Films,Thai...              Thai   \n",
       "3   TV Dramas,Polish TV Shows,Social Issue TV Dramas            Polish   \n",
       "4  Social Issue Dramas,Dramas,Movies Based on Boo...           Swedish   \n",
       "\n",
       "  Series or Movie  Hidden Gem Score  \\\n",
       "0          Series               4.3   \n",
       "1           Movie               7.0   \n",
       "2           Movie               8.6   \n",
       "3          Series               8.7   \n",
       "4           Movie               8.3   \n",
       "\n",
       "                                Country Availability       Runtime  \\\n",
       "0                                           Thailand  < 30 minutes   \n",
       "1                                             Canada      1-2 hour   \n",
       "2                                           Thailand       > 2 hrs   \n",
       "3                                             Poland  < 30 minutes   \n",
       "4  Lithuania,Poland,France,Italy,Spain,Greece,Bel...      1-2 hour   \n",
       "\n",
       "          Director                                             Writer  ...  \\\n",
       "0  Tomas Alfredson                              John Ajvide Lindqvist  ...   \n",
       "1    Coky Giedroyc                                      Caitlin Moran  ...   \n",
       "2    Mez Tharatorn  Pattaranad Bhiboonsawade, Mez Tharatorn, Thods...  ...   \n",
       "3              NaN                                                NaN  ...   \n",
       "4      Alf Sjöberg                                  Ivar Lo-Johansson  ...   \n",
       "\n",
       "  Netflix Release Date                        Production House  \\\n",
       "0           2021-03-04               Canal+, Sandrew Metronome   \n",
       "1           2021-03-04  Film 4, Monumental Pictures, Lionsgate   \n",
       "2           2021-03-03                                     NaN   \n",
       "3           2021-03-03                                     NaN   \n",
       "4           2021-03-03                                     NaN   \n",
       "\n",
       "                             Netflix Link  \\\n",
       "0  https://www.netflix.com/watch/81415947   \n",
       "1  https://www.netflix.com/watch/81041267   \n",
       "2  https://www.netflix.com/watch/81306155   \n",
       "3  https://www.netflix.com/watch/81307527   \n",
       "4  https://www.netflix.com/watch/81382068   \n",
       "\n",
       "                               IMDb Link  \\\n",
       "0   https://www.imdb.com/title/tt1139797   \n",
       "1   https://www.imdb.com/title/tt4193072   \n",
       "2  https://www.imdb.com/title/tt13393728   \n",
       "3   https://www.imdb.com/title/tt2300049   \n",
       "4   https://www.imdb.com/title/tt0041155   \n",
       "\n",
       "                                             Summary  IMDb Votes  \\\n",
       "0  A med student with a supernatural gift tries t...    205926.0   \n",
       "1  When nerdy Johanna moves to London, things get...      2838.0   \n",
       "2  After her ex-boyfriend cons her out of a large...       131.0   \n",
       "3  A group of social welfare workers led by their...        47.0   \n",
       "4  An unhappily married farm worker struggling to...        88.0   \n",
       "\n",
       "                                               Image  \\\n",
       "0  https://occ-0-4708-64.1.nflxso.net/dnm/api/v6/...   \n",
       "1  https://occ-0-1081-999.1.nflxso.net/dnm/api/v6...   \n",
       "2  https://occ-0-2188-64.1.nflxso.net/dnm/api/v6/...   \n",
       "3  https://occ-0-2508-2706.1.nflxso.net/dnm/api/v...   \n",
       "4  https://occ-0-2851-41.1.nflxso.net/dnm/api/v6/...   \n",
       "\n",
       "                                              Poster  \\\n",
       "0  https://m.media-amazon.com/images/M/MV5BOWM4NT...   \n",
       "1  https://m.media-amazon.com/images/M/MV5BZGUyN2...   \n",
       "2  https://m.media-amazon.com/images/M/MV5BODAzOG...   \n",
       "3  https://m.media-amazon.com/images/M/MV5BMTc0Nz...   \n",
       "4  https://m.media-amazon.com/images/M/MV5BMjVmMz...   \n",
       "\n",
       "                                  TMDb Trailer Trailer Site  \n",
       "0  https://www.youtube.com/watch?v=LqB6XJix-dM      YouTube  \n",
       "1  https://www.youtube.com/watch?v=eIbcxPy4okQ      YouTube  \n",
       "2  https://www.youtube.com/watch?v=md3CmFLGK6Y      YouTube  \n",
       "3  https://www.youtube.com/watch?v=5kyF2vy63r0      YouTube  \n",
       "4  https://www.youtube.com/watch?v=H0itWKFwMpQ      YouTube  \n",
       "\n",
       "[5 rows x 29 columns]"
      ]
     },
     "execution_count": 32,
     "metadata": {},
     "output_type": "execute_result"
    }
   ],
   "source": [
    "df=pd.read_excel('dataset/Netflix Dataset Latest 2021.xlsx')\n",
    "df.head()"
   ]
  },
  {
   "cell_type": "markdown",
   "metadata": {},
   "source": [
    "#### Dữ liệu bao nhiêu dòng bao nhiêu cột"
   ]
  },
  {
   "cell_type": "code",
   "execution_count": 8,
   "metadata": {},
   "outputs": [
    {
     "name": "stdout",
     "output_type": "stream",
     "text": [
      "Số cột : 29\n",
      "Số dòng: 9425\n"
     ]
    }
   ],
   "source": [
    "num_rows,num_cols=df.shape\n",
    "print('Số cột : {}'.format(num_cols))\n",
    "print('Số dòng: {}'.format(num_rows))"
   ]
  },
  {
   "cell_type": "markdown",
   "metadata": {},
   "source": [
    "#### Mỗi dòng có ý nghĩa gì? Có vấn đề các dòng có ý nghĩa khác nhau không?"
   ]
  },
  {
   "cell_type": "code",
   "execution_count": null,
   "metadata": {},
   "outputs": [],
   "source": []
  },
  {
   "cell_type": "markdown",
   "metadata": {},
   "source": [
    "#### Dữ liệu có các dòng bị lặp không?"
   ]
  },
  {
   "cell_type": "code",
   "execution_count": 19,
   "metadata": {},
   "outputs": [
    {
     "name": "stdout",
     "output_type": "stream",
     "text": [
      "Các dòng dữ liệu không bị lặp\n"
     ]
    }
   ],
   "source": [
    "have_duplocated_rows=df.duplicated().any()\n",
    "\n",
    "if have_duplocated_rows:\n",
    "    print('Các dòng dữ liệu bị lặp')\n",
    "else:\n",
    "    print('Các dòng dữ liệu không bị lặp')"
   ]
  },
  {
   "cell_type": "markdown",
   "metadata": {},
   "source": [
    "#### Dữ liệu có bị thiếu không ?"
   ]
  },
  {
   "cell_type": "code",
   "execution_count": 21,
   "metadata": {},
   "outputs": [
    {
     "data": {
      "text/plain": [
       "Genre                    0.002653\n",
       "Tags                     0.003820\n",
       "Languages                0.016870\n",
       "Hidden Gem Score         0.001061\n",
       "Country Availability     0.001167\n",
       "Runtime                  0.000106\n",
       "Director                 0.244562\n",
       "Writer                   0.192042\n",
       "Actors                   0.011777\n",
       "View Rating              0.275650\n",
       "IMDb Score               0.000849\n",
       "Rotten Tomatoes Score    0.422281\n",
       "Metacritic Score         0.566897\n",
       "Awards Received          0.445517\n",
       "Awards Nominated For     0.323501\n",
       "Boxoffice                0.601698\n",
       "Release Date             0.022069\n",
       "Production House         0.533899\n",
       "IMDb Link                0.034377\n",
       "Summary                  0.000531\n",
       "IMDb Votes               0.001061\n",
       "Poster                   0.099523\n",
       "Trailer Site             0.000106\n",
       "dtype: float64"
      ]
     },
     "execution_count": 21,
     "metadata": {},
     "output_type": "execute_result"
    }
   ],
   "source": [
    "missing_ratio = df.isnull().sum()\n",
    "missing_ratio = missing_ratio / num_rows\n",
    "missing_ratio[missing_ratio > 0]"
   ]
  },
  {
   "cell_type": "markdown",
   "metadata": {},
   "source": [
    "#### Mỗi cột có ý nghĩa gì?"
   ]
  },
  {
   "cell_type": "code",
   "execution_count": null,
   "metadata": {},
   "outputs": [],
   "source": []
  },
  {
   "cell_type": "markdown",
   "metadata": {},
   "source": [
    "#### Mỗi cột hiện đang có kiểu dữ liệu gì?"
   ]
  },
  {
   "cell_type": "code",
   "execution_count": 12,
   "metadata": {},
   "outputs": [
    {
     "data": {
      "text/plain": [
       "Title                            object\n",
       "Genre                            object\n",
       "Tags                             object\n",
       "Languages                        object\n",
       "Series or Movie                  object\n",
       "Hidden Gem Score                float64\n",
       "Country Availability             object\n",
       "Runtime                          object\n",
       "Director                         object\n",
       "Writer                           object\n",
       "Actors                           object\n",
       "View Rating                      object\n",
       "IMDb Score                      float64\n",
       "Rotten Tomatoes Score           float64\n",
       "Metacritic Score                float64\n",
       "Awards Received                 float64\n",
       "Awards Nominated For            float64\n",
       "Boxoffice                       float64\n",
       "Release Date             datetime64[ns]\n",
       "Netflix Release Date     datetime64[ns]\n",
       "Production House                 object\n",
       "Netflix Link                     object\n",
       "IMDb Link                        object\n",
       "Summary                          object\n",
       "IMDb Votes                      float64\n",
       "Image                            object\n",
       "Poster                           object\n",
       "TMDb Trailer                     object\n",
       "Trailer Site                     object\n",
       "dtype: object"
      ]
     },
     "execution_count": 12,
     "metadata": {},
     "output_type": "execute_result"
    }
   ],
   "source": [
    "df.dtypes"
   ]
  },
  {
   "cell_type": "markdown",
   "metadata": {},
   "source": [
    " #### Có cột nào có kiểu dữ liệu chưa phù hợp để có thể xử lý tiếp không?"
   ]
  },
  {
   "cell_type": "code",
   "execution_count": null,
   "metadata": {},
   "outputs": [],
   "source": []
  },
  {
   "cell_type": "markdown",
   "metadata": {},
   "source": [
    "### Tiền xử lí dữ liệu"
   ]
  },
  {
   "cell_type": "markdown",
   "metadata": {},
   "source": [
    "Liệt kê các vấn đề gặp phải để tiền xử lí"
   ]
  },
  {
   "cell_type": "markdown",
   "metadata": {},
   "source": [
    "*Vấn đề 1* : Cột \"Runtime\" đang ở dạng chuỗi cần được chuyển sang dạng tuple để dễ phân biệt được thời lượng phim"
   ]
  },
  {
   "cell_type": "code",
   "execution_count": 41,
   "metadata": {},
   "outputs": [
    {
     "data": {
      "text/plain": [
       "array([(0, 0.5), (1, 2), (2, nan), (0.5, 1), nan], dtype=object)"
      ]
     },
     "execution_count": 41,
     "metadata": {},
     "output_type": "execute_result"
    }
   ],
   "source": [
    "df1.unique()"
   ]
  },
  {
   "cell_type": "code",
   "execution_count": 45,
   "metadata": {},
   "outputs": [
    {
     "data": {
      "text/plain": [
       "array([(0, 0.5), (1, 2), (2, nan), (0.5, 1), (nan, nan)], dtype=object)"
      ]
     },
     "execution_count": 45,
     "metadata": {},
     "output_type": "execute_result"
    }
   ],
   "source": [
    "transform_dict={'< 30 minutes':(0,0.5),\n",
    "                '1-2 hour':(1,2),\n",
    "                '> 2 hrs':(2,np.nan),\n",
    "                '30-60 mins':(0.5,1)}\n",
    "# df['Runtime']=df['Runtime'].transform(lambda x: transform_dict[x] if x is not np.nan else x)\n",
    "df1=df['Runtime'].transform(lambda x: transform_dict[x] if x in transform_dict.keys() else (np.nan,np.nan))\n",
    "df1.unique()"
   ]
  },
  {
   "cell_type": "markdown",
   "metadata": {},
   "source": [
    "*Vấn đề 2*"
   ]
  },
  {
   "cell_type": "code",
   "execution_count": null,
   "metadata": {},
   "outputs": [],
   "source": []
  },
  {
   "cell_type": "markdown",
   "metadata": {},
   "source": [
    ".... nếu có"
   ]
  },
  {
   "cell_type": "markdown",
   "metadata": {},
   "source": [
    "### Khám phá sau khi tiền xử lí"
   ]
  },
  {
   "cell_type": "markdown",
   "metadata": {},
   "source": [
    "#### Với mỗi cột có kiểu dữ liệu dạng numeric, các giá trị được phân bố như thế nào?"
   ]
  },
  {
   "cell_type": "code",
   "execution_count": null,
   "metadata": {},
   "outputs": [],
   "source": []
  },
  {
   "cell_type": "markdown",
   "metadata": {},
   "source": [
    "#### Với mỗi cột có kiểu dữ liệu dạng categorical, các giá trị được phân bố như thế nào? "
   ]
  },
  {
   "cell_type": "markdown",
   "metadata": {},
   "source": [
    "## Trả lời câu hỏi (Tự đặt và trả lời)"
   ]
  },
  {
   "cell_type": "markdown",
   "metadata": {},
   "source": [
    "**Câu hỏi 1:**"
   ]
  },
  {
   "cell_type": "code",
   "execution_count": null,
   "metadata": {},
   "outputs": [],
   "source": []
  },
  {
   "cell_type": "markdown",
   "metadata": {},
   "source": [
    "**Câu hỏi 2:**"
   ]
  },
  {
   "cell_type": "code",
   "execution_count": null,
   "metadata": {},
   "outputs": [],
   "source": []
  },
  {
   "cell_type": "markdown",
   "metadata": {},
   "source": [
    "**Câu hỏi 3:**"
   ]
  },
  {
   "cell_type": "code",
   "execution_count": null,
   "metadata": {},
   "outputs": [],
   "source": []
  },
  {
   "cell_type": "markdown",
   "metadata": {},
   "source": [
    "**Câu hỏi 4:**"
   ]
  },
  {
   "cell_type": "code",
   "execution_count": null,
   "metadata": {},
   "outputs": [],
   "source": []
  }
 ],
 "metadata": {
  "kernelspec": {
   "display_name": "Python 3.10.8 64-bit",
   "language": "python",
   "name": "python3"
  },
  "language_info": {
   "codemirror_mode": {
    "name": "ipython",
    "version": 3
   },
   "file_extension": ".py",
   "mimetype": "text/x-python",
   "name": "python",
   "nbconvert_exporter": "python",
   "pygments_lexer": "ipython3",
   "version": "3.10.8"
  },
  "orig_nbformat": 4,
  "vscode": {
   "interpreter": {
    "hash": "8c3d4d9970fc5c09c50d9318a9c7fbf4d0159e4b28833276f5678ee22bded273"
   }
  }
 },
 "nbformat": 4,
 "nbformat_minor": 2
}
